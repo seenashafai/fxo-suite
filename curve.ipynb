{
 "cells": [
  {
   "cell_type": "markdown",
   "id": "0e1b143d-27c0-4ff4-8f31-fec3a59d766a",
   "metadata": {
    "editable": true,
    "slideshow": {
     "slide_type": ""
    },
    "tags": []
   },
   "source": [
    "### HOW TO CONSTRUCT AN ATM CURVE"
   ]
  },
  {
   "cell_type": "code",
   "execution_count": 1,
   "id": "12679a26-e65d-4faf-aeed-52587edace57",
   "metadata": {},
   "outputs": [],
   "source": [
    "from datetime import datetime, timedelta, date\n",
    "from dateutil.relativedelta import *\n",
    "\n",
    "import ipywidgets as widgets\n",
    "\n",
    "import calendar\n",
    "\n",
    "import pandas as pd\n",
    "\n",
    "import math\n",
    "import matplotlib.pyplot as plt\n",
    "import numpy as np"
   ]
  },
  {
   "cell_type": "markdown",
   "id": "afbbcc5a-3ab6-4297-aad2-3932a0877054",
   "metadata": {},
   "source": [
    "# Generate Tenor Dates\n",
    "### For the standard tenor dates (O/N up to 2Y) we count from spot date (T+2) until expiry, ignoring weekends. We can import a calendar to include bank holidays in this calculation, but overkill for the purposes of this experiment"
   ]
  },
  {
   "cell_type": "code",
   "execution_count": 2,
   "id": "95397c1e-fa6a-43fb-ac71-484a7b64166c",
   "metadata": {},
   "outputs": [
    {
     "name": "stdout",
     "output_type": "stream",
     "text": [
      "ON => Mon 26-Aug-2024\n",
      "1W => Mon 02-Sep-2024\n",
      "2W => Mon 09-Sep-2024\n",
      "1M => Thu 26-Sep-2024\n",
      "2M => Mon 28-Oct-2024\n",
      "3M => Tue 26-Nov-2024\n",
      "6M => Wed 26-Feb-2025\n",
      "1Y => Tue 26-Aug-2025\n",
      "2Y => Wed 26-Aug-2026\n"
     ]
    }
   ],
   "source": [
    "# Define the standard tenors\n",
    "tenors = ['ON', '1W', '2W', '1M', '2M', '3M', '6M', '1Y', '2Y']\n",
    "expiryDate = []\n",
    "\n",
    "# Check if provided date is a Friday or Saturday- \n",
    "# The next business day will be the following Monday\n",
    "def nextBusinessDay(day):\n",
    "    if day.weekday() == 6: # Weekday 6 = Saturday\n",
    "        return day + timedelta(days=1) # Next business day is 2 days ahead\n",
    "    elif day.weekday() == 5: # Weekday 5 = Friday\n",
    "        return day + timedelta(days=2) # Next business day is 3 days ahead\n",
    "    else:\n",
    "        return day\n",
    "\n",
    "# Calculate Spot date (two business days ahead)\n",
    "def spotDate(day):\n",
    "    t1 = nextBusinessDay(day)\n",
    "    t2 = nextBusinessDay(t1)\n",
    "    return t2\n",
    "\n",
    "# Calculate the real dates for the standard tenors\n",
    "for i in range(0, len(tenors)):\n",
    "    if tenors[i] == 'ON': # Overnight - the next business day\n",
    "        expiryDate.insert(i, nextBusinessDay(datetime.today() + timedelta(days=1)))\n",
    "    if 'W' in tenors[i]: # Weeks - 7 * the next business day\n",
    "        n = int(tenors[i][0])\n",
    "        expiryDate.insert(i, nextBusinessDay(datetime.today() + timedelta(days=7*n)))\n",
    "    if 'M' in tenors[i]: # Months\n",
    "        n = int(tenors[i][0])\n",
    "        expiryDate.insert(i, nextBusinessDay(spotDate(datetime.today()) + relativedelta(months=+(1*n))))\n",
    "    if 'Y' in tenors[i]: # Years\n",
    "        n = int(tenors[i][0])\n",
    "        expiryDate.insert(i, nextBusinessDay(spotDate(datetime.today()) + relativedelta(years=+(1*n))))\n",
    "\n",
    "# Output the real tenor dates\n",
    "for i in range(0, len(expiryDate)):\n",
    "    print(tenors[i] + ' => ' + datetime.strftime(expiryDate[i], '%a %d-%b-%Y'))\n"
   ]
  },
  {
   "cell_type": "markdown",
   "id": "2b41b070-e5dd-4ac5-932a-a934971dceae",
   "metadata": {},
   "source": [
    "# Input ATM implied volatilaties (%)"
   ]
  },
  {
   "cell_type": "code",
   "execution_count": 3,
   "id": "2eb51d32-bc68-4b87-b410-a5b645bc8345",
   "metadata": {
    "scrolled": true
   },
   "outputs": [
    {
     "data": {
      "application/vnd.jupyter.widget-view+json": {
       "model_id": "68548c7611df46d3b6fbcd145d661ced",
       "version_major": 2,
       "version_minor": 0
      },
      "text/plain": [
       "Text(value='', description='ON')"
      ]
     },
     "metadata": {},
     "output_type": "display_data"
    },
    {
     "data": {
      "application/vnd.jupyter.widget-view+json": {
       "model_id": "c5057b9611574f369935cc471adf140a",
       "version_major": 2,
       "version_minor": 0
      },
      "text/plain": [
       "Text(value='', description='1W')"
      ]
     },
     "metadata": {},
     "output_type": "display_data"
    },
    {
     "data": {
      "application/vnd.jupyter.widget-view+json": {
       "model_id": "b7d76e1c4add481590f02c0b401d1639",
       "version_major": 2,
       "version_minor": 0
      },
      "text/plain": [
       "Text(value='', description='2W')"
      ]
     },
     "metadata": {},
     "output_type": "display_data"
    },
    {
     "data": {
      "application/vnd.jupyter.widget-view+json": {
       "model_id": "b53ee8c81aef40beaad6ccd0bc6d1275",
       "version_major": 2,
       "version_minor": 0
      },
      "text/plain": [
       "Text(value='', description='1M')"
      ]
     },
     "metadata": {},
     "output_type": "display_data"
    },
    {
     "data": {
      "application/vnd.jupyter.widget-view+json": {
       "model_id": "789764063546434db7dca0094ff3f71e",
       "version_major": 2,
       "version_minor": 0
      },
      "text/plain": [
       "Text(value='', description='2M')"
      ]
     },
     "metadata": {},
     "output_type": "display_data"
    },
    {
     "data": {
      "application/vnd.jupyter.widget-view+json": {
       "model_id": "7d1708cba10c42ecb3d0b06b5293d92a",
       "version_major": 2,
       "version_minor": 0
      },
      "text/plain": [
       "Text(value='', description='3M')"
      ]
     },
     "metadata": {},
     "output_type": "display_data"
    },
    {
     "data": {
      "application/vnd.jupyter.widget-view+json": {
       "model_id": "38fdd75383384531945f80d3737a2f26",
       "version_major": 2,
       "version_minor": 0
      },
      "text/plain": [
       "Text(value='', description='6M')"
      ]
     },
     "metadata": {},
     "output_type": "display_data"
    },
    {
     "data": {
      "application/vnd.jupyter.widget-view+json": {
       "model_id": "56d981bbc4774a628c3c6ca90212cccd",
       "version_major": 2,
       "version_minor": 0
      },
      "text/plain": [
       "Text(value='', description='1Y')"
      ]
     },
     "metadata": {},
     "output_type": "display_data"
    },
    {
     "data": {
      "application/vnd.jupyter.widget-view+json": {
       "model_id": "ef293d5c65b94808a85e75837e44d741",
       "version_major": 2,
       "version_minor": 0
      },
      "text/plain": [
       "Text(value='', description='2Y')"
      ]
     },
     "metadata": {},
     "output_type": "display_data"
    }
   ],
   "source": [
    "ivInputs = []\n",
    "for i in range(0, len(tenors)):\n",
    "    ivInputs.append(widgets.Text(description=tenors[i]))\n",
    "\n",
    "for i in ivInputs:\n",
    "    display(i)"
   ]
  },
  {
   "cell_type": "markdown",
   "id": "877c9551-6265-4c0a-8164-5caa44220a4e",
   "metadata": {},
   "source": [
    "# Interpolate ATM Vols\n",
    "##  Use trader's vols to interpolate and provide a vol quote for any date within the standard tenors.\n",
    "## We find the closest already-known volatilities behind and ahead of the requested expiry date, and the perform standard linear interpolation between these dates to produce a quote"
   ]
  },
  {
   "cell_type": "code",
   "execution_count": 4,
   "id": "8cb4b958-acb2-4347-8177-10fba38f16d3",
   "metadata": {},
   "outputs": [],
   "source": [
    "expiry_over = 0\n",
    "expiry_under = 0\n",
    "volSurface = {}\n",
    "horizon = datetime.today()\n",
    "# Get known vols from the input fields above\n",
    "impliedVols = [x.value for x in ivInputs]\n",
    "\n",
    "# Create a vol surface dictionary, mapping known tenors and their vols\n",
    "for i in range(0, len(expiryDate)):\n",
    "    volSurface.update({expiryDate[i]: int(impliedVols[i])})\n",
    "\n",
    "# Return a vol for any date (expiry) within the tenors\n",
    "def getATMVol(expiry):\n",
    "    # Initialise some variables to determine max distance from the requested expiry date\n",
    "    delta_over = 1000000\n",
    "    delta_under = 100000\n",
    "    # Iterate through the already-known expiry dates\n",
    "    for i in range(0, len(expiryDate)):\n",
    "        current_tenor = expiryDate[i]\n",
    "        current_delta = abs(expiryDate[i] - expiry)\n",
    "        # find nearest marked tenor below expiry\n",
    "        if current_tenor < expiry:\n",
    "            if current_delta.days < delta_under:\n",
    "                delta_under = current_delta.days\n",
    "                expiry_under = current_tenor\n",
    "        # find nearest marked tenor above given expiry\n",
    "        if current_tenor > expiry:\n",
    "            if current_delta.days < delta_over:\n",
    "                delta_over = current_delta.days\n",
    "                expiry_over = current_tenor\n",
    "    # Convert the neighbouring dates into Days from Horizon to perform interpolation\n",
    "    delta_expiry = horizon - expiry\n",
    "    delta_expiry_under = horizon - expiry_under\n",
    "    delta_expiry_over = horizon - expiry_over\n",
    "\n",
    "    # Run interpolation function\n",
    "    return interpolate(volSurface[expiry_under], volSurface[expiry_over], delta_expiry_under.days, delta_expiry_over.days, delta_expiry.days)\n",
    "\n",
    "\n",
    "# Standard linear interpolation based on two known points in a cartesian plane\n",
    "# And a known x value, to determine an unknown y value.\n",
    "def interpolate(y0, y1, x0, x1, x):\n",
    "    y = (y0*(x1-x) + y1*(x-x0))/(x1-x0)\n",
    "    return y"
   ]
  },
  {
   "cell_type": "markdown",
   "id": "78eaf3da-c657-41e6-ac31-48b25bf73fbb",
   "metadata": {},
   "source": [
    "# Test the interpolation with an expiry date below:"
   ]
  },
  {
   "cell_type": "code",
   "execution_count": 5,
   "id": "2c329e4f-3b9d-4e88-a60a-f04ebbe8c7ec",
   "metadata": {},
   "outputs": [
    {
     "data": {
      "application/vnd.jupyter.widget-view+json": {
       "model_id": "2b5c303c708044d5b7e777f89be8490b",
       "version_major": 2,
       "version_minor": 0
      },
      "text/plain": [
       "DatePicker(value=None, description='Expiry Date', step=1)"
      ]
     },
     "metadata": {},
     "output_type": "display_data"
    }
   ],
   "source": [
    "dp = widgets.DatePicker(description='Expiry Date')\n",
    "display(dp)\n"
   ]
  },
  {
   "cell_type": "code",
   "execution_count": 6,
   "id": "31fd21e2-470b-437a-a26d-315e647ccf7a",
   "metadata": {
    "scrolled": true
   },
   "outputs": [
    {
     "data": {
      "text/plain": [
       "16.81767955801105"
      ]
     },
     "execution_count": 6,
     "metadata": {},
     "output_type": "execute_result"
    }
   ],
   "source": [
    "dt = datetime.combine(dp.value, datetime.min.time())\n",
    "\n",
    "getATMVol(dt)"
   ]
  },
  {
   "cell_type": "markdown",
   "id": "8d5655e2-f3bb-4703-9861-91fd4a28a2f0",
   "metadata": {},
   "source": [
    "## ATM Curve - Vol entry approach\n",
    "#### This curve simply plots the entered implied volatilities for the standard tenor dates\n",
    "#### It allows us to visualise how the volatility quotes are obtained when requesting expiry dates between tenors"
   ]
  },
  {
   "cell_type": "code",
   "execution_count": 7,
   "id": "8c3243ac-d2e3-4907-99de-45b17182f5ac",
   "metadata": {},
   "outputs": [
    {
     "name": "stderr",
     "output_type": "stream",
     "text": [
      "/tmp/ipykernel_1559606/1512681483.py:9: UserWarning: set_ticklabels() should only be used with a fixed number of ticks, i.e. after set_ticks() or using a FixedLocator.\n",
      "  ax.set_xticklabels(tenors)\n"
     ]
    },
    {
     "data": {
      "image/png": "[encoded data removed]",
      "text/plain": [
       "<Figure size 640x480 with 1 Axes>"
      ]
     },
     "metadata": {},
     "output_type": "display_data"
    }
   ],
   "source": [
    "fig, ax = plt.subplots()\n",
    "impliedVols = [x.value for x in ivInputs]\n",
    "\n",
    "ax.plot(expiryDate, impliedVols)\n",
    "\n",
    "ax.set(xlabel='tenor', ylabel='implied volatility',\n",
    "       title='vol surface')\n",
    "\n",
    "ax.set_xticklabels(tenors)\n",
    "ax.grid()\n"
   ]
  },
  {
   "cell_type": "markdown",
   "id": "1ac24ed8-073a-41f1-b802-cf2bf8326e2b",
   "metadata": {},
   "source": [
    "# Variance Profile\n",
    "#### Using the already-known volatility quotes for the standard tenors, we can calculate the variances between horizon (today) and expiry dates (tenors) to visualise the forward variance. \n",
    "\n",
    "#### We expect the variance to increase into the future, as volatility increases steadily based on the traders' inputs from previously"
   ]
  },
  {
   "cell_type": "code",
   "execution_count": 9,
   "id": "611c874b-0dc7-4789-89dc-83ccd6ebe207",
   "metadata": {
    "scrolled": true
   },
   "outputs": [
    {
     "name": "stderr",
     "output_type": "stream",
     "text": [
      "/tmp/ipykernel_1559606/3804269919.py:28: UserWarning: set_ticklabels() should only be used with a fixed number of ticks, i.e. after set_ticks() or using a FixedLocator.\n",
      "  ax2.set_xticklabels(tenors)\n"
     ]
    },
    {
     "data": {
      "image/png": "[encoded data removed]",
      "text/plain": [
       "<Figure size 640x480 with 1 Axes>"
      ]
     },
     "metadata": {},
     "output_type": "display_data"
    }
   ],
   "source": [
    "variances = []\n",
    "times = []\n",
    "horizon = datetime.today()\n",
    "\n",
    "def variance(vol, t):\n",
    "    # Basic variance calculation: v = 𝜎^2 * t\n",
    "    # Variance = vol ^2 * time to expiry\n",
    "    return (vol**2) * t\n",
    "\n",
    "# Variance calculation for entered each date in the vol surface\n",
    "for key, value in volSurface.items():\n",
    "    # Time to expiry calculation - number of days between horizon and tenor\n",
    "    tte = (key - horizon).days\n",
    "    # Variance calculation - taking the volatility value (sigma) and time to expiry\n",
    "    v = variance(value, tte/360)\n",
    "    times.append(tte/360)\n",
    "    # Divide by 100 to produce a percentage\n",
    "    variances.append(float(v/100))\n",
    "\n",
    "\n",
    "# Plot forward variance profile\n",
    "fig2, ax2 = plt.subplots()\n",
    "ax2.plot(times, variances)\n",
    "\n",
    "ax2.set(xlabel='tenor', ylabel='Variance (%)',\n",
    "       title='ATM Curve Variance Profile')\n",
    "\n",
    "ax2.set_xticklabels(tenors)\n",
    "\n",
    "ax2.grid()\n",
    "plt.show()\n"
   ]
  },
  {
   "cell_type": "markdown",
   "id": "4269aba4-65fb-4113-9e2f-937634900250",
   "metadata": {},
   "source": [
    "# ATM Curve - Model approach\n",
    "#### Instead of a vol-first approach, we can use models to build the curve, and manipulate the vol surface using weights entered by the trader to identify expiries of hightened volatility (e.g. NFP, FMOC, election dates)\n",
    "\n",
    "#### One such model is: &sigma;<sub>T</sub> = &sigma;<sub>short</sub> + (&sigma;<sub>long</sub> − &sigma;<sub>short</sub>).(1 − e<sup>−&lambda;T</sup>)\n",
    "\n",
    "##### Where:\n",
    "##### &sigma;<sub>T</sub> = ATM Implied vol at time T\n",
    "##### &sigma;<sub>short</sub>,  &sigma;<sub>long</sub>  = Short and long term ATM vols\n",
    "##### &lambda; = Speed of reversion from short to long vol."
   ]
  },
  {
   "cell_type": "markdown",
   "id": "d778a3e8-f5e6-4a51-8ec8-f9bb06f9a31e",
   "metadata": {},
   "source": [
    "##### Try it below:"
   ]
  },
  {
   "cell_type": "code",
   "execution_count": 10,
   "id": "d84f69dc-d81a-4942-b0ae-cfe63df7ed9c",
   "metadata": {},
   "outputs": [
    {
     "data": {
      "application/vnd.jupyter.widget-view+json": {
       "model_id": "d2c41e03b3374a299448c71181411736",
       "version_major": 2,
       "version_minor": 0
      },
      "text/plain": [
       "FloatSlider(value=0.0, continuous_update=False, description='Short Vol%:', readout_format='.1f', step=0.5)"
      ]
     },
     "metadata": {},
     "output_type": "display_data"
    },
    {
     "data": {
      "application/vnd.jupyter.widget-view+json": {
       "model_id": "fca97cbe1eb34a35852317730aeac96d",
       "version_major": 2,
       "version_minor": 0
      },
      "text/plain": [
       "FloatSlider(value=0.0, continuous_update=False, description='Long Vol%:', readout_format='.1f', step=0.5)"
      ]
     },
     "metadata": {},
     "output_type": "display_data"
    },
    {
     "data": {
      "application/vnd.jupyter.widget-view+json": {
       "model_id": "1cc0bd245aa2460782577b9cb3aae030",
       "version_major": 2,
       "version_minor": 0
      },
      "text/plain": [
       "Text(value='', description='Speed')"
      ]
     },
     "metadata": {},
     "output_type": "display_data"
    }
   ],
   "source": [
    "speed = widgets.Text(description='Speed')\n",
    "\n",
    "shortVol = widgets.FloatSlider(\n",
    "    value=0,\n",
    "    min=0,\n",
    "    max=100.0,\n",
    "    step=0.5,\n",
    "    description='Short Vol%:',\n",
    "    disabled=False,\n",
    "    continuous_update=False,\n",
    "    orientation='horizontal',\n",
    "    readout=True,\n",
    "    readout_format='.1f',\n",
    ")\n",
    "\n",
    "longVol = widgets.FloatSlider(\n",
    "    value=0,\n",
    "    min=0,\n",
    "    max=100.0,\n",
    "    step=0.5,\n",
    "    description='Long Vol%:',\n",
    "    disabled=False,\n",
    "    continuous_update=False,\n",
    "    orientation='horizontal',\n",
    "    readout=True,\n",
    "    readout_format='.1f',\n",
    ")\n",
    "\n",
    "display(shortVol, longVol, speed)"
   ]
  },
  {
   "cell_type": "code",
   "execution_count": 18,
   "id": "1efedc27-9f4b-45fc-9ece-1f0081752c30",
   "metadata": {
    "scrolled": true
   },
   "outputs": [
    {
     "name": "stderr",
     "output_type": "stream",
     "text": [
      "/tmp/ipykernel_1559606/2531999058.py:16: UserWarning: set_ticklabels() should only be used with a fixed number of ticks, i.e. after set_ticks() or using a FixedLocator.\n",
      "  ax3.set_xticklabels(tenors)\n"
     ]
    },
    {
     "data": {
      "image/png": "[encoded data removed]",
      "text/plain": [
       "<Figure size 640x480 with 1 Axes>"
      ]
     },
     "metadata": {},
     "output_type": "display_data"
    }
   ],
   "source": [
    "modelVol = []\n",
    "longVolpct = longVol.value /100\n",
    "shortVolpct = shortVol.value/100\n",
    "\n",
    "for i in times:\n",
    "    vol = shortVolpct + (longVolpct - shortVolpct)*(1-np.exp(-int(speed.value)*i))\n",
    "    modelVol.append(vol*100)\n",
    "\n",
    "fig2, ax3 = plt.subplots()\n",
    "ax3.plot(times, modelVol)\n",
    "\n",
    "\n",
    "ax3.set(xlabel='tenor', ylabel='Implied Vol (%)',\n",
    "       title='ATM Vol curve (Model)')\n",
    "\n",
    "ax3.set_xticklabels(tenors)\n",
    "\n",
    "ax3.grid()\n",
    "plt.show()"
   ]
  },
  {
   "cell_type": "code",
   "execution_count": null,
   "id": "83ece8cc-7d83-4ef3-933d-bcc8c26581ff",
   "metadata": {},
   "outputs": [],
   "source": []
  },
  {
   "cell_type": "markdown",
   "id": "db216186-d428-4414-bc32-d2ce73324c3e",
   "metadata": {},
   "source": [
    "## Adding weights to the ATM Curve\n",
    "#### Traders update the ATM curve using weights as discussed above. This model assumes a flat base volatility, but allows the user to manually enter weights, skewing the volatility for that expiry and subsequent dates due to the accumulated variance.\n",
    "\n",
    "#### ATM curves distinguish between `Calendar Time` (time to expiry for a given contract) and `Economic Time`: the time to expiry with the influence of weightings. Specifically, economic time uses the weighted sum of all the previous dates to calculate a time to expiry.\n",
    "\n",
    "#### Variance is then calculated using this weighted time to expiry, and volatility is found in the usual way using this variance.\n"
   ]
  },
  {
   "cell_type": "code",
   "execution_count": 19,
   "id": "4b4057ec-95ed-4905-a05c-90eed01d6415",
   "metadata": {
    "scrolled": true
   },
   "outputs": [
    {
     "data": {
      "application/vnd.jupyter.widget-view+json": {
       "model_id": "7b959aad5eeb4776a3830e153b23174e",
       "version_major": 2,
       "version_minor": 0
      },
      "text/plain": [
       "Text(value='', description='Sunday')"
      ]
     },
     "metadata": {},
     "output_type": "display_data"
    },
    {
     "data": {
      "application/vnd.jupyter.widget-view+json": {
       "model_id": "16da5179d25a4d428ee7b9716ec38664",
       "version_major": 2,
       "version_minor": 0
      },
      "text/plain": [
       "Text(value='', description='Monday')"
      ]
     },
     "metadata": {},
     "output_type": "display_data"
    },
    {
     "data": {
      "application/vnd.jupyter.widget-view+json": {
       "model_id": "a3d36da7868f484987d6e08d37537da0",
       "version_major": 2,
       "version_minor": 0
      },
      "text/plain": [
       "Text(value='', description='Tuesday')"
      ]
     },
     "metadata": {},
     "output_type": "display_data"
    },
    {
     "data": {
      "application/vnd.jupyter.widget-view+json": {
       "model_id": "508ecfc24d8c422d8f72a1ef4029821d",
       "version_major": 2,
       "version_minor": 0
      },
      "text/plain": [
       "Text(value='', description='Wednesday')"
      ]
     },
     "metadata": {},
     "output_type": "display_data"
    },
    {
     "data": {
      "application/vnd.jupyter.widget-view+json": {
       "model_id": "de4c92adb679446a9463f193bac68393",
       "version_major": 2,
       "version_minor": 0
      },
      "text/plain": [
       "Text(value='', description='Thursday')"
      ]
     },
     "metadata": {},
     "output_type": "display_data"
    },
    {
     "data": {
      "application/vnd.jupyter.widget-view+json": {
       "model_id": "75c229e268c244c3b356be8a6fbf314a",
       "version_major": 2,
       "version_minor": 0
      },
      "text/plain": [
       "Text(value='', description='Friday')"
      ]
     },
     "metadata": {},
     "output_type": "display_data"
    },
    {
     "data": {
      "application/vnd.jupyter.widget-view+json": {
       "model_id": "ebcb60bf160549ef99d236be1fccf7bb",
       "version_major": 2,
       "version_minor": 0
      },
      "text/plain": [
       "Text(value='', description='Saturday')"
      ]
     },
     "metadata": {},
     "output_type": "display_data"
    }
   ],
   "source": [
    "volatility = 10/100 # single flat vol for weighting\n",
    "dayWeights = {'Sunday': 0.0, 'Monday': 1.0, 'Tuesday': 1.0, 'Wednesday': 1.0, 'Thursday': 1.0, 'Friday': 1.0, 'Saturday': 0.0}\n",
    "\n",
    "weekWeightInputs = []\n",
    "for day, weight in dayWeights.items():\n",
    "    weekWeightInputs.append(widgets.Text(description=day))\n",
    "\n",
    "for i in weekWeightInputs:\n",
    "    display(i)\n"
   ]
  },
  {
   "cell_type": "code",
   "execution_count": 15,
   "id": "9fb4e680-448d-43f2-9628-c27bc0e2017a",
   "metadata": {},
   "outputs": [
    {
     "name": "stdout",
     "output_type": "stream",
     "text": [
      "{'Sunday': 0, 'Monday': 1, 'Tuesday': 1, 'Wednesday': 1, 'Thursday': 1, 'Friday': 1, 'Saturday': 0}\n"
     ]
    }
   ],
   "source": [
    "dayWeights = {}\n",
    "for i in weekWeightInputs:\n",
    "    dayWeights.update({i.description: int(i.value)})\n",
    "\n",
    "print(dayWeights)"
   ]
  },
  {
   "cell_type": "markdown",
   "id": "4cc2422f-16a5-48fc-8e10-65eb2ca41226",
   "metadata": {},
   "source": [
    "##### We notice that the ATM curve is 'sawtoothed' due to the 0-weighted weekends (reduced times of volatility). Each week the vol rises due to the weighted sum of previous vols, and then crashes with the zero weekend weighting"
   ]
  },
  {
   "cell_type": "code",
   "execution_count": 23,
   "id": "af9c962e-2bb7-4c5c-9801-99bdb6ed17a7",
   "metadata": {},
   "outputs": [
    {
     "data": {
      "text/plain": [
       "<Axes: xlabel='date'>"
      ]
     },
     "execution_count": 23,
     "metadata": {},
     "output_type": "execute_result"
    },
    {
     "data": {
      "image/png": "[encoded data removed]",
      "text/plain": [
       "<Figure size 640x480 with 1 Axes>"
      ]
     },
     "metadata": {},
     "output_type": "display_data"
    }
   ],
   "source": [
    "weightedModel = []\n",
    "horizon = datetime.today()\n",
    "dayWeightSum = 0\n",
    "\n",
    "# Calculate vol for the next x days\n",
    "for i in range(2, 360):\n",
    "    d = (horizon + timedelta(days=i)) # For each day from the horizon\n",
    "    caltime = (d-horizon).days/365 # Calendar time => time to expiry (Years)\n",
    "    dayName = calendar.day_name[d.weekday()] # Get day name to apply weights\n",
    "    dayWeight = dayWeights[dayName] # Assign weight based on user inputs\n",
    "    dayWeightSum += dayWeight # Accumulate weights from previous days\n",
    "    economicTime = dayWeightSum/365 # Economic time uses the weighted day sum (Years)\n",
    "    totalVariance = economicTime * (volatility**2) # Generate variance as normal\n",
    "    atmvol = np.sqrt(totalVariance/caltime) # Generate vol as normal\n",
    "    # Add all of these calculated vars to a dict for easier processing.\n",
    "    weightedModel.append({'date': d.strftime('%a %d-%b-%Y'), 'calendar_time': caltime, 'day_weight': dayWeight, 'day_weight_sum': dayWeightSum, 'economic_time': economicTime, 'total_variance': totalVariance, 'atm_vol': atmvol*100})\n",
    "\n",
    "#Convert to dataframe and plot\n",
    "df = pd.DataFrame(weightedModel)\n",
    "#df\n",
    "df.plot(x='date', y='atm_vol')"
   ]
  }
 ],
 "metadata": {
  "kernelspec": {
   "display_name": "Python 3 (ipykernel)",
   "language": "python",
   "name": "python3"
  },
  "language_info": {
   "codemirror_mode": {
    "name": "ipython",
    "version": 3
   },
   "file_extension": ".py",
   "mimetype": "text/x-python",
   "name": "python",
   "nbconvert_exporter": "python",
   "pygments_lexer": "ipython3",
   "version": "3.10.10"
  }
 },
 "nbformat": 4,
 "nbformat_minor": 5
}
